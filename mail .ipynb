{
 "cells": [
  {
   "cell_type": "code",
   "execution_count": 43,
   "id": "a70a38c6",
   "metadata": {},
   "outputs": [
    {
     "data": {
      "text/plain": [
       "(221,\n",
       " b'2.0.0 closing connection x12-20020a62fb0c000000b0063b675f01a5sm8770188pfm.11 - gsmtp')"
      ]
     },
     "execution_count": 43,
     "metadata": {},
     "output_type": "execute_result"
    }
   ],
   "source": [
    "import smtplib\n",
    "from email.mime.text import MIMEText\n",
    "from email.mime.multipart import MIMEMultipart\n",
    "\n",
    "# Email information\n",
    "sender_email = \"supraja2d@gmail.com\"\n",
    "receiver_email = \"snehalathanandikolamath@gmail.com\"\n",
    "subject = \"Subject of the email\"\n",
    "image_url = \"https://images.pexels.com/photos/96627/pexels-photo-96627.jpeg?cs=srgb&dl=pexels-photomix-company-96627.jpg&fm=jpg\"\n",
    "message = f\"\"\"\\\n",
    "<html>\n",
    "    <body>\n",
    "        <p style=\"color: blue;\">Hello.</p>\n",
    "        <img src=\"{image_url}\" alt=\"Image\">\n",
    "    </body>\n",
    "</html>\n",
    "\"\"\"\n",
    "\n",
    "# Create a multipart message\n",
    "msg = MIMEMultipart()\n",
    "msg[\"From\"] = sender_email\n",
    "msg[\"To\"] = receiver_email\n",
    "msg[\"Subject\"] = subject\n",
    "\n",
    "# Attach the HTML message\n",
    "msg.attach(MIMEText(message, \"html\"))\n",
    "\n",
    "# SMTP server configuration\n",
    "smtp_server = \"smtp.gmail.com\"\n",
    "smtp_port = 465  # Replace with the appropriate port for your SMTP server\n",
    "username = \"supraja2d@gmail.com\"\n",
    "password = \"tofluxdemjigaprs\"\n",
    "\n",
    "# Create a secure connection to the SMTP server\n",
    "context = smtplib.SMTP_SSL(smtp_server, smtp_port)\n",
    "\n",
    "# Uncomment the line below if you want to see the SMTP communication with the server\n",
    "# context.set_debuglevel(1)\n",
    "\n",
    "# Login to the email account\n",
    "context.login(username, password)\n",
    "\n",
    "# Send the email\n",
    "context.sendmail(sender_email, receiver_email, msg.as_string())\n",
    "\n",
    "# Disconnect from the SMTP server\n",
    "context.quit()\n"
   ]
  }
 ],
 "metadata": {
  "kernelspec": {
   "display_name": "Python 3 (ipykernel)",
   "language": "python",
   "name": "python3"
  },
  "language_info": {
   "codemirror_mode": {
    "name": "ipython",
    "version": 3
   },
   "file_extension": ".py",
   "mimetype": "text/x-python",
   "name": "python",
   "nbconvert_exporter": "python",
   "pygments_lexer": "ipython3",
   "version": "3.10.9"
  }
 },
 "nbformat": 4,
 "nbformat_minor": 5
}
